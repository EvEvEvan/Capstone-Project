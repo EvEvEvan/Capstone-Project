{
  "nbformat": 4,
  "nbformat_minor": 0,
  "metadata": {
    "colab": {
      "name": "Capstone Project",
      "provenance": []
    },
    "kernelspec": {
      "name": "python3",
      "display_name": "Python 3"
    }
  },
  "cells": [
    {
      "cell_type": "markdown",
      "metadata": {
        "id": "-8pn2XrrFloV",
        "colab_type": "text"
      },
      "source": [
        "# Introduction"
      ]
    },
    {
      "cell_type": "markdown",
      "metadata": {
        "id": "ZDM13kHUKBKb",
        "colab_type": "text"
      },
      "source": [
        "###1.1 Background"
      ]
    },
    {
      "cell_type": "markdown",
      "metadata": {
        "id": "JYp2G2odFr9Q",
        "colab_type": "text"
      },
      "source": [
        "Due to the fast development of the economy and technology, cars become common in people's daily life. Different people like different types of cars such as sedan, SUV, and so on. Under this condition, people may want to trade in their cars and replace them in a short period to taste other types of the cars. There is some extra fee in purchasing a new car. To save money, they can choose to have a used car. In this case, the price of the car is important. Many factors can influence the price of the car. To understand how each factor may affect the price can help the improvement of the used car industry."
      ]
    },
    {
      "cell_type": "markdown",
      "metadata": {
        "id": "AidiYK-4OaC2",
        "colab_type": "text"
      },
      "source": [
        "###1.2 Audience\n",
        "\n",
        "The report is for people who will buy a used car and they can use this report as a reference. They can understand how the dealer decides the price of the user's car and identify whether they have been cheated or not."
      ]
    },
    {
      "cell_type": "markdown",
      "metadata": {
        "id": "u5E-G4doLkNW",
        "colab_type": "text"
      },
      "source": [
        "###2.1 Data"
      ]
    },
    {
      "cell_type": "markdown",
      "metadata": {
        "id": "3-V__slHLq4l",
        "colab_type": "text"
      },
      "source": [
        "The used car data can be very important to analyze how the factors affect the price. There are many characters for each car such as the brand, power, vehicle type, and so on. The method that we can use to analyze is the regression and identify the trend of the price depend on different characters."
      ]
    },
    {
      "cell_type": "markdown",
      "metadata": {
        "id": "C20vWTAlg5oX",
        "colab_type": "text"
      },
      "source": [
        "###2.2 Source of the Data\n",
        "\n",
        "The data is from the Data World and randomly pick up 500 rows of data to anlysis the result."
      ]
    },
    {
      "cell_type": "markdown",
      "metadata": {
        "id": "xqed1R-ssYGT",
        "colab_type": "text"
      },
      "source": [
        "### 2.3 Main Purpose\n",
        "In many of the factors in the table, we emphasize the importance of the numeric data such as the kilometer and power. Beacuse these two are people always care about. In this case, we will talk about how the numeric data influence the price of the used car. We will main discuss about the year, distance and power."
      ]
    },
    {
      "cell_type": "markdown",
      "metadata": {
        "id": "zrDaRLEtiUr1",
        "colab_type": "text"
      },
      "source": [
        "#Analyze the Data"
      ]
    },
    {
      "cell_type": "markdown",
      "metadata": {
        "id": "dtDPNnj2icb9",
        "colab_type": "text"
      },
      "source": [
        "####3.1 Linear Regression"
      ]
    },
    {
      "cell_type": "markdown",
      "metadata": {
        "id": "d5c6plxwjpUn",
        "colab_type": "text"
      },
      "source": [
        "#####3.1.1 Import the data and Fliter it"
      ]
    },
    {
      "cell_type": "code",
      "metadata": {
        "id": "RbgSh_2IS1kc",
        "colab_type": "code",
        "colab": {}
      },
      "source": [
        "import pandas as pd\n",
        "import numpy as np\n",
        "from sklearn import linear_model\n",
        "from sklearn.linear_model import LinearRegression"
      ],
      "execution_count": 82,
      "outputs": []
    },
    {
      "cell_type": "code",
      "metadata": {
        "id": "VdkWZzZmS7Vu",
        "colab_type": "code",
        "colab": {
          "base_uri": "https://localhost:8080/",
          "height": 309
        },
        "outputId": "6b6d87f9-e8da-4cea-9316-9d56a146ffd4"
      },
      "source": [
        "used_car = pd.read_csv('https://download.data.world/s/l66pxsxqveeyduacspqkbnp2qcx5xp')\n",
        "used_car.head()"
      ],
      "execution_count": 39,
      "outputs": [
        {
          "output_type": "execute_result",
          "data": {
            "text/html": [
              "<div>\n",
              "<style scoped>\n",
              "    .dataframe tbody tr th:only-of-type {\n",
              "        vertical-align: middle;\n",
              "    }\n",
              "\n",
              "    .dataframe tbody tr th {\n",
              "        vertical-align: top;\n",
              "    }\n",
              "\n",
              "    .dataframe thead th {\n",
              "        text-align: right;\n",
              "    }\n",
              "</style>\n",
              "<table border=\"1\" class=\"dataframe\">\n",
              "  <thead>\n",
              "    <tr style=\"text-align: right;\">\n",
              "      <th></th>\n",
              "      <th>datecrawled</th>\n",
              "      <th>name</th>\n",
              "      <th>seller</th>\n",
              "      <th>offertype</th>\n",
              "      <th>price</th>\n",
              "      <th>abtest</th>\n",
              "      <th>vehicletype</th>\n",
              "      <th>yearofregistration</th>\n",
              "      <th>gearbox</th>\n",
              "      <th>powerps</th>\n",
              "      <th>model</th>\n",
              "      <th>kilometer</th>\n",
              "      <th>monthofregistration</th>\n",
              "      <th>fueltype</th>\n",
              "      <th>brand</th>\n",
              "      <th>notrepaireddamage</th>\n",
              "      <th>datecreated</th>\n",
              "      <th>nrofpictures</th>\n",
              "      <th>postalcode</th>\n",
              "      <th>lastseen</th>\n",
              "    </tr>\n",
              "  </thead>\n",
              "  <tbody>\n",
              "    <tr>\n",
              "      <th>0</th>\n",
              "      <td>2016-03-24T10:58:45</td>\n",
              "      <td>A5_Sportback_2.7_Tdi</td>\n",
              "      <td>privat</td>\n",
              "      <td>Angebot</td>\n",
              "      <td>18300</td>\n",
              "      <td>test</td>\n",
              "      <td>coupe</td>\n",
              "      <td>2011</td>\n",
              "      <td>manuell</td>\n",
              "      <td>190</td>\n",
              "      <td>NaN</td>\n",
              "      <td>125000</td>\n",
              "      <td>5</td>\n",
              "      <td>diesel</td>\n",
              "      <td>audi</td>\n",
              "      <td>ja</td>\n",
              "      <td>2016-03-24T00:00:00</td>\n",
              "      <td>False</td>\n",
              "      <td>66954</td>\n",
              "      <td>2016-04-07T01:46:50</td>\n",
              "    </tr>\n",
              "    <tr>\n",
              "      <th>1</th>\n",
              "      <td>2016-03-14T12:52:21</td>\n",
              "      <td>Jeep_Grand_Cherokee_\"Overland\"</td>\n",
              "      <td>privat</td>\n",
              "      <td>Angebot</td>\n",
              "      <td>9800</td>\n",
              "      <td>test</td>\n",
              "      <td>suv</td>\n",
              "      <td>2004</td>\n",
              "      <td>automatik</td>\n",
              "      <td>163</td>\n",
              "      <td>grand</td>\n",
              "      <td>125000</td>\n",
              "      <td>8</td>\n",
              "      <td>diesel</td>\n",
              "      <td>jeep</td>\n",
              "      <td>NaN</td>\n",
              "      <td>2016-03-14T00:00:00</td>\n",
              "      <td>False</td>\n",
              "      <td>90480</td>\n",
              "      <td>2016-04-05T12:47:46</td>\n",
              "    </tr>\n",
              "    <tr>\n",
              "      <th>2</th>\n",
              "      <td>2016-03-31T17:25:20</td>\n",
              "      <td>Skoda_Fabia_1.4_TDI_PD_Classic</td>\n",
              "      <td>privat</td>\n",
              "      <td>Angebot</td>\n",
              "      <td>3600</td>\n",
              "      <td>test</td>\n",
              "      <td>kleinwagen</td>\n",
              "      <td>2008</td>\n",
              "      <td>manuell</td>\n",
              "      <td>69</td>\n",
              "      <td>fabia</td>\n",
              "      <td>90000</td>\n",
              "      <td>7</td>\n",
              "      <td>diesel</td>\n",
              "      <td>skoda</td>\n",
              "      <td>nein</td>\n",
              "      <td>2016-03-31T00:00:00</td>\n",
              "      <td>False</td>\n",
              "      <td>60437</td>\n",
              "      <td>2016-04-06T10:17:21</td>\n",
              "    </tr>\n",
              "    <tr>\n",
              "      <th>3</th>\n",
              "      <td>2016-04-01T20:48:51</td>\n",
              "      <td>Peugeot_206_CC_110_Platinum</td>\n",
              "      <td>privat</td>\n",
              "      <td>Angebot</td>\n",
              "      <td>2200</td>\n",
              "      <td>test</td>\n",
              "      <td>cabrio</td>\n",
              "      <td>2004</td>\n",
              "      <td>manuell</td>\n",
              "      <td>109</td>\n",
              "      <td>2_reihe</td>\n",
              "      <td>150000</td>\n",
              "      <td>8</td>\n",
              "      <td>benzin</td>\n",
              "      <td>peugeot</td>\n",
              "      <td>nein</td>\n",
              "      <td>2016-04-01T00:00:00</td>\n",
              "      <td>False</td>\n",
              "      <td>67112</td>\n",
              "      <td>2016-04-05T18:18:39</td>\n",
              "    </tr>\n",
              "    <tr>\n",
              "      <th>4</th>\n",
              "      <td>2016-04-04T23:42:13</td>\n",
              "      <td>Ford_C___Max_Titanium_1_0_L_EcoBoost</td>\n",
              "      <td>privat</td>\n",
              "      <td>Angebot</td>\n",
              "      <td>14500</td>\n",
              "      <td>control</td>\n",
              "      <td>bus</td>\n",
              "      <td>2014</td>\n",
              "      <td>manuell</td>\n",
              "      <td>125</td>\n",
              "      <td>c_max</td>\n",
              "      <td>30000</td>\n",
              "      <td>8</td>\n",
              "      <td>benzin</td>\n",
              "      <td>ford</td>\n",
              "      <td>NaN</td>\n",
              "      <td>2016-04-04T00:00:00</td>\n",
              "      <td>False</td>\n",
              "      <td>94505</td>\n",
              "      <td>2016-04-04T23:42:13</td>\n",
              "    </tr>\n",
              "  </tbody>\n",
              "</table>\n",
              "</div>"
            ],
            "text/plain": [
              "           datecrawled  ...             lastseen\n",
              "0  2016-03-24T10:58:45  ...  2016-04-07T01:46:50\n",
              "1  2016-03-14T12:52:21  ...  2016-04-05T12:47:46\n",
              "2  2016-03-31T17:25:20  ...  2016-04-06T10:17:21\n",
              "3  2016-04-01T20:48:51  ...  2016-04-05T18:18:39\n",
              "4  2016-04-04T23:42:13  ...  2016-04-04T23:42:13\n",
              "\n",
              "[5 rows x 20 columns]"
            ]
          },
          "metadata": {
            "tags": []
          },
          "execution_count": 39
        }
      ]
    },
    {
      "cell_type": "code",
      "metadata": {
        "id": "mEFxqG10TOao",
        "colab_type": "code",
        "colab": {
          "base_uri": "https://localhost:8080/",
          "height": 419
        },
        "outputId": "706215c4-4b19-404e-afc1-8d7a09cc4f9e"
      },
      "source": [
        "df = used_car.drop(['seller','offertype','abtest','monthofregistration','notrepaireddamage','model'],axis=1)\n",
        "df1 = df.drop(['datecrawled','datecreated','nrofpictures','postalcode','lastseen','name'],axis=1)\n",
        "df1"
      ],
      "execution_count": 63,
      "outputs": [
        {
          "output_type": "execute_result",
          "data": {
            "text/html": [
              "<div>\n",
              "<style scoped>\n",
              "    .dataframe tbody tr th:only-of-type {\n",
              "        vertical-align: middle;\n",
              "    }\n",
              "\n",
              "    .dataframe tbody tr th {\n",
              "        vertical-align: top;\n",
              "    }\n",
              "\n",
              "    .dataframe thead th {\n",
              "        text-align: right;\n",
              "    }\n",
              "</style>\n",
              "<table border=\"1\" class=\"dataframe\">\n",
              "  <thead>\n",
              "    <tr style=\"text-align: right;\">\n",
              "      <th></th>\n",
              "      <th>price</th>\n",
              "      <th>vehicletype</th>\n",
              "      <th>yearofregistration</th>\n",
              "      <th>gearbox</th>\n",
              "      <th>powerps</th>\n",
              "      <th>kilometer</th>\n",
              "      <th>fueltype</th>\n",
              "      <th>brand</th>\n",
              "    </tr>\n",
              "  </thead>\n",
              "  <tbody>\n",
              "    <tr>\n",
              "      <th>0</th>\n",
              "      <td>18300</td>\n",
              "      <td>coupe</td>\n",
              "      <td>2011</td>\n",
              "      <td>manuell</td>\n",
              "      <td>190</td>\n",
              "      <td>125000</td>\n",
              "      <td>diesel</td>\n",
              "      <td>audi</td>\n",
              "    </tr>\n",
              "    <tr>\n",
              "      <th>1</th>\n",
              "      <td>9800</td>\n",
              "      <td>suv</td>\n",
              "      <td>2004</td>\n",
              "      <td>automatik</td>\n",
              "      <td>163</td>\n",
              "      <td>125000</td>\n",
              "      <td>diesel</td>\n",
              "      <td>jeep</td>\n",
              "    </tr>\n",
              "    <tr>\n",
              "      <th>2</th>\n",
              "      <td>3600</td>\n",
              "      <td>kleinwagen</td>\n",
              "      <td>2008</td>\n",
              "      <td>manuell</td>\n",
              "      <td>69</td>\n",
              "      <td>90000</td>\n",
              "      <td>diesel</td>\n",
              "      <td>skoda</td>\n",
              "    </tr>\n",
              "    <tr>\n",
              "      <th>3</th>\n",
              "      <td>2200</td>\n",
              "      <td>cabrio</td>\n",
              "      <td>2004</td>\n",
              "      <td>manuell</td>\n",
              "      <td>109</td>\n",
              "      <td>150000</td>\n",
              "      <td>benzin</td>\n",
              "      <td>peugeot</td>\n",
              "    </tr>\n",
              "    <tr>\n",
              "      <th>4</th>\n",
              "      <td>14500</td>\n",
              "      <td>bus</td>\n",
              "      <td>2014</td>\n",
              "      <td>manuell</td>\n",
              "      <td>125</td>\n",
              "      <td>30000</td>\n",
              "      <td>benzin</td>\n",
              "      <td>ford</td>\n",
              "    </tr>\n",
              "    <tr>\n",
              "      <th>...</th>\n",
              "      <td>...</td>\n",
              "      <td>...</td>\n",
              "      <td>...</td>\n",
              "      <td>...</td>\n",
              "      <td>...</td>\n",
              "      <td>...</td>\n",
              "      <td>...</td>\n",
              "      <td>...</td>\n",
              "    </tr>\n",
              "    <tr>\n",
              "      <th>495</th>\n",
              "      <td>4800</td>\n",
              "      <td>kleinwagen</td>\n",
              "      <td>2007</td>\n",
              "      <td>manuell</td>\n",
              "      <td>80</td>\n",
              "      <td>100000</td>\n",
              "      <td>benzin</td>\n",
              "      <td>volkswagen</td>\n",
              "    </tr>\n",
              "    <tr>\n",
              "      <th>496</th>\n",
              "      <td>5299</td>\n",
              "      <td>kleinwagen</td>\n",
              "      <td>2005</td>\n",
              "      <td>manuell</td>\n",
              "      <td>90</td>\n",
              "      <td>150000</td>\n",
              "      <td>benzin</td>\n",
              "      <td>mini</td>\n",
              "    </tr>\n",
              "    <tr>\n",
              "      <th>497</th>\n",
              "      <td>3750</td>\n",
              "      <td>limousine</td>\n",
              "      <td>1991</td>\n",
              "      <td>automatik</td>\n",
              "      <td>234</td>\n",
              "      <td>150000</td>\n",
              "      <td>benzin</td>\n",
              "      <td>jaguar</td>\n",
              "    </tr>\n",
              "    <tr>\n",
              "      <th>498</th>\n",
              "      <td>4200</td>\n",
              "      <td>limousine</td>\n",
              "      <td>2000</td>\n",
              "      <td>manuell</td>\n",
              "      <td>163</td>\n",
              "      <td>100000</td>\n",
              "      <td>benzin</td>\n",
              "      <td>mercedes_benz</td>\n",
              "    </tr>\n",
              "    <tr>\n",
              "      <th>499</th>\n",
              "      <td>2549</td>\n",
              "      <td>andere</td>\n",
              "      <td>1998</td>\n",
              "      <td>manuell</td>\n",
              "      <td>150</td>\n",
              "      <td>150000</td>\n",
              "      <td>benzin</td>\n",
              "      <td>volkswagen</td>\n",
              "    </tr>\n",
              "  </tbody>\n",
              "</table>\n",
              "<p>500 rows × 8 columns</p>\n",
              "</div>"
            ],
            "text/plain": [
              "     price vehicletype  yearofregistration  ... kilometer  fueltype          brand\n",
              "0    18300       coupe                2011  ...    125000    diesel           audi\n",
              "1     9800         suv                2004  ...    125000    diesel           jeep\n",
              "2     3600  kleinwagen                2008  ...     90000    diesel          skoda\n",
              "3     2200      cabrio                2004  ...    150000    benzin        peugeot\n",
              "4    14500         bus                2014  ...     30000    benzin           ford\n",
              "..     ...         ...                 ...  ...       ...       ...            ...\n",
              "495   4800  kleinwagen                2007  ...    100000    benzin     volkswagen\n",
              "496   5299  kleinwagen                2005  ...    150000    benzin           mini\n",
              "497   3750   limousine                1991  ...    150000    benzin         jaguar\n",
              "498   4200   limousine                2000  ...    100000    benzin  mercedes_benz\n",
              "499   2549      andere                1998  ...    150000    benzin     volkswagen\n",
              "\n",
              "[500 rows x 8 columns]"
            ]
          },
          "metadata": {
            "tags": []
          },
          "execution_count": 63
        }
      ]
    },
    {
      "cell_type": "markdown",
      "metadata": {
        "id": "523UMyI8vPON",
        "colab_type": "text"
      },
      "source": [
        "- Calculate the start used year from now"
      ]
    },
    {
      "cell_type": "code",
      "metadata": {
        "id": "PAr9IjS0tjtX",
        "colab_type": "code",
        "colab": {
          "base_uri": "https://localhost:8080/",
          "height": 54
        },
        "outputId": "74c39a01-8ba6-4b24-fa38-e9704226831d"
      },
      "source": [
        "change_year = []\n",
        "for change in df1['yearofregistration']:\n",
        "        change_year.append(2020-change)\n",
        "\n",
        "print(change_year)"
      ],
      "execution_count": 210,
      "outputs": [
        {
          "output_type": "stream",
          "text": [
            "[9, 16, 12, 16, 6, 16, 15, 16, 9, 13, 11, 18, 2, 18, 3, 12, 25, 13, 16, 18, 18, 14, 13, 12, 13, 22, 3, 8, 12, 3, 12, 6, 14, 2, 16, 10, 14, 13, 3, 12, 20, 23, 12, 14, 7, 14, 10, 15, 15, 11, 16, 7, 17, 7, 12, 8, 16, 21, 11, 14, 15, 18, 29, 14, 24, 10, 17, 19, 19, 8, 24, 13, 15, 17, 13, 20, 10, 6, 17, 20, 17, 11, 16, 3, 17, 13, 13, 16, 9, 20, 14, 14, 14, 8, 20, 5, 4, 9, 11, 17, 13, 12, 52, 28, 12, 14, 14, 9, 2, 14, 14, 12, 9, 11, 10, 10, 13, 13, 29, 15, 12, 15, 16, 16, 20, 7, 15, 9, 14, 20, 14, 12, 8, 14, 18, 8, 11, 10, 16, 11, 13, 17, 7, 21, 5, 6, 11, 11, 11, 16, 22, 9, 19, 19, 3, 25, 8, 11, 8, 11, 31, 9, 20, 16, 16, 4, 24, 16, 12, 17, 16, 18, 18, 14, 14, 23, 12, 13, 16, 3, 7, 11, 21, 6, 22, 12, 11, 14, 10, 16, 6, 12, 17, 10, 7, 19, 14, 14, 19, 8, 16, 8, 6, 17, 37, 13, 12, 17, 14, 14, 8, 20, 16, 13, 13, 15, 10, 17, 11, 16, 13, 12, 8, 7, 22, 4, 21, 10, 10, 19, 11, 13, 9, 28, 16, 12, 61, 9, 18, 10, 13, 19, 16, 14, 19, 10, 13, 16, 10, 13, 17, 11, 17, 17, 11, 7, 17, 23, 15, 13, 18, 11, 12, 7, 10, 16, 14, 23, 3, 11, 11, 13, 14, 12, 10, 11, 14, 12, 12, 8, 21, 17, 11, 13, 14, 8, 14, 11, 14, 6, 18, 8, 14, 9, 10, 13, 16, 13, 12, 11, 17, 20, 3, 14, 13, 21, 7, 39, 17, 13, 19, 9, 11, 3, 39, 10, 10, 9, 16, 17, 4, 5, 20, 16, 16, 9, 14, 20, 12, 22, 9, 12, 21, 19, 16, 14, 25, 3, 18, 14, 14, 16, 15, 19, 11, 10, 15, 10, 12, 17, 22, 9, 4, 19, 28, 11, 13, 11, 17, 11, 17, 8, 18, 15, 21, 14, 18, 6, 11, 3, 51, 17, 3, 13, 12, 17, 12, 13, 14, 11, 25, 11, 19, 8, 21, 18, 24, 14, 11, 11, 15, 20, 9, 16, 16, 21, 17, 17, 14, 15, 8, 18, 10, 21, 16, 13, 14, 20, 15, 11, 13, 15, 7, 10, 8, 16, 18, 12, 20, 14, 10, 8, 19, 19, 5, 7, 16, 7, 9, 21, 8, 8, 10, 7, 16, 17, 14, 7, 20, 9, 7, 23, 20, 8, 13, 13, 20, 3, 19, 12, 17, 4, 16, 11, 17, 20, 6, 10, 15, 13, 17, 9, 10, 15, 14, 14, 4, 13, 17, 14, 24, 12, 11, 21, 21, 12, 8, 20, 14, 19, 14, 19, 31, 3, 21, 52, 9, 22, 21, 19, 19, 17, 17, 15, 13, 13, 15, 29, 20, 22]\n"
          ],
          "name": "stdout"
        }
      ]
    },
    {
      "cell_type": "code",
      "metadata": {
        "id": "ONTTYo8Ut6Y3",
        "colab_type": "code",
        "colab": {
          "base_uri": "https://localhost:8080/",
          "height": 204
        },
        "outputId": "aa11b1f4-ab7b-4020-c2c6-3bdbe63d84e3"
      },
      "source": [
        "df2 = pd.DataFrame(change_year)\n",
        "df2.columns = ['year_of_used']\n",
        "df2.head()"
      ],
      "execution_count": 216,
      "outputs": [
        {
          "output_type": "execute_result",
          "data": {
            "text/html": [
              "<div>\n",
              "<style scoped>\n",
              "    .dataframe tbody tr th:only-of-type {\n",
              "        vertical-align: middle;\n",
              "    }\n",
              "\n",
              "    .dataframe tbody tr th {\n",
              "        vertical-align: top;\n",
              "    }\n",
              "\n",
              "    .dataframe thead th {\n",
              "        text-align: right;\n",
              "    }\n",
              "</style>\n",
              "<table border=\"1\" class=\"dataframe\">\n",
              "  <thead>\n",
              "    <tr style=\"text-align: right;\">\n",
              "      <th></th>\n",
              "      <th>year_of_used</th>\n",
              "    </tr>\n",
              "  </thead>\n",
              "  <tbody>\n",
              "    <tr>\n",
              "      <th>0</th>\n",
              "      <td>9</td>\n",
              "    </tr>\n",
              "    <tr>\n",
              "      <th>1</th>\n",
              "      <td>16</td>\n",
              "    </tr>\n",
              "    <tr>\n",
              "      <th>2</th>\n",
              "      <td>12</td>\n",
              "    </tr>\n",
              "    <tr>\n",
              "      <th>3</th>\n",
              "      <td>16</td>\n",
              "    </tr>\n",
              "    <tr>\n",
              "      <th>4</th>\n",
              "      <td>6</td>\n",
              "    </tr>\n",
              "  </tbody>\n",
              "</table>\n",
              "</div>"
            ],
            "text/plain": [
              "   year_of_used\n",
              "0             9\n",
              "1            16\n",
              "2            12\n",
              "3            16\n",
              "4             6"
            ]
          },
          "metadata": {
            "tags": []
          },
          "execution_count": 216
        }
      ]
    },
    {
      "cell_type": "code",
      "metadata": {
        "id": "pBZmLN88vauD",
        "colab_type": "code",
        "colab": {
          "base_uri": "https://localhost:8080/",
          "height": 204
        },
        "outputId": "8cf6a850-b1ec-438e-ea39-10245eaaa1a4"
      },
      "source": [
        "df_final=pd.concat([df1, df2], axis=1)\n",
        "df_final.head()"
      ],
      "execution_count": 217,
      "outputs": [
        {
          "output_type": "execute_result",
          "data": {
            "text/html": [
              "<div>\n",
              "<style scoped>\n",
              "    .dataframe tbody tr th:only-of-type {\n",
              "        vertical-align: middle;\n",
              "    }\n",
              "\n",
              "    .dataframe tbody tr th {\n",
              "        vertical-align: top;\n",
              "    }\n",
              "\n",
              "    .dataframe thead th {\n",
              "        text-align: right;\n",
              "    }\n",
              "</style>\n",
              "<table border=\"1\" class=\"dataframe\">\n",
              "  <thead>\n",
              "    <tr style=\"text-align: right;\">\n",
              "      <th></th>\n",
              "      <th>price</th>\n",
              "      <th>vehicletype</th>\n",
              "      <th>yearofregistration</th>\n",
              "      <th>gearbox</th>\n",
              "      <th>powerps</th>\n",
              "      <th>kilometer</th>\n",
              "      <th>fueltype</th>\n",
              "      <th>brand</th>\n",
              "      <th>year_of_used</th>\n",
              "    </tr>\n",
              "  </thead>\n",
              "  <tbody>\n",
              "    <tr>\n",
              "      <th>0</th>\n",
              "      <td>18300</td>\n",
              "      <td>coupe</td>\n",
              "      <td>2011</td>\n",
              "      <td>manuell</td>\n",
              "      <td>190</td>\n",
              "      <td>125000</td>\n",
              "      <td>diesel</td>\n",
              "      <td>audi</td>\n",
              "      <td>9</td>\n",
              "    </tr>\n",
              "    <tr>\n",
              "      <th>1</th>\n",
              "      <td>9800</td>\n",
              "      <td>suv</td>\n",
              "      <td>2004</td>\n",
              "      <td>automatik</td>\n",
              "      <td>163</td>\n",
              "      <td>125000</td>\n",
              "      <td>diesel</td>\n",
              "      <td>jeep</td>\n",
              "      <td>16</td>\n",
              "    </tr>\n",
              "    <tr>\n",
              "      <th>2</th>\n",
              "      <td>3600</td>\n",
              "      <td>kleinwagen</td>\n",
              "      <td>2008</td>\n",
              "      <td>manuell</td>\n",
              "      <td>69</td>\n",
              "      <td>90000</td>\n",
              "      <td>diesel</td>\n",
              "      <td>skoda</td>\n",
              "      <td>12</td>\n",
              "    </tr>\n",
              "    <tr>\n",
              "      <th>3</th>\n",
              "      <td>2200</td>\n",
              "      <td>cabrio</td>\n",
              "      <td>2004</td>\n",
              "      <td>manuell</td>\n",
              "      <td>109</td>\n",
              "      <td>150000</td>\n",
              "      <td>benzin</td>\n",
              "      <td>peugeot</td>\n",
              "      <td>16</td>\n",
              "    </tr>\n",
              "    <tr>\n",
              "      <th>4</th>\n",
              "      <td>14500</td>\n",
              "      <td>bus</td>\n",
              "      <td>2014</td>\n",
              "      <td>manuell</td>\n",
              "      <td>125</td>\n",
              "      <td>30000</td>\n",
              "      <td>benzin</td>\n",
              "      <td>ford</td>\n",
              "      <td>6</td>\n",
              "    </tr>\n",
              "  </tbody>\n",
              "</table>\n",
              "</div>"
            ],
            "text/plain": [
              "   price vehicletype  yearofregistration  ... fueltype    brand  year_of_used\n",
              "0  18300       coupe                2011  ...   diesel     audi             9\n",
              "1   9800         suv                2004  ...   diesel     jeep            16\n",
              "2   3600  kleinwagen                2008  ...   diesel    skoda            12\n",
              "3   2200      cabrio                2004  ...   benzin  peugeot            16\n",
              "4  14500         bus                2014  ...   benzin     ford             6\n",
              "\n",
              "[5 rows x 9 columns]"
            ]
          },
          "metadata": {
            "tags": []
          },
          "execution_count": 217
        }
      ]
    },
    {
      "cell_type": "markdown",
      "metadata": {
        "id": "1CYsWkT_tYqg",
        "colab_type": "text"
      },
      "source": [
        "####3.1.2 Relationship between Price and kilometer"
      ]
    },
    {
      "cell_type": "code",
      "metadata": {
        "id": "ZLv0qcn0UZOd",
        "colab_type": "code",
        "colab": {}
      },
      "source": [
        "x = np.array(df1['kilometer']).reshape(-1,1)\n",
        "y = np.array(df1['price'])\n"
      ],
      "execution_count": 66,
      "outputs": []
    },
    {
      "cell_type": "code",
      "metadata": {
        "id": "jYxv4ZkuWmKz",
        "colab_type": "code",
        "colab": {
          "base_uri": "https://localhost:8080/",
          "height": 102
        },
        "outputId": "38da97c1-a64b-46a5-9446-7453fdd06252"
      },
      "source": [
        "from sklearn import preprocessing\n",
        "x = preprocessing.StandardScaler().fit(x).transform(x)\n",
        "x[0:5]"
      ],
      "execution_count": 70,
      "outputs": [
        {
          "output_type": "execute_result",
          "data": {
            "text/plain": [
              "array([[ 0.16194752],\n",
              "       [ 0.16194752],\n",
              "       [-0.68027582],\n",
              "       [ 0.76353561],\n",
              "       [-2.12408725]])"
            ]
          },
          "metadata": {
            "tags": []
          },
          "execution_count": 70
        }
      ]
    },
    {
      "cell_type": "code",
      "metadata": {
        "id": "UX0Lnae-daQg",
        "colab_type": "code",
        "colab": {
          "base_uri": "https://localhost:8080/",
          "height": 51
        },
        "outputId": "713ea824-c54e-4575-ffc5-6ec24c221676"
      },
      "source": [
        "from sklearn.model_selection import train_test_split\n",
        "X_train, X_test, y_train, y_test = train_test_split( x, y, test_size=0.2, random_state=4)\n",
        "print ('Train set:', X_train.shape,  y_train.shape)\n",
        "print ('Test set:', X_test.shape,  y_test.shape)"
      ],
      "execution_count": 71,
      "outputs": [
        {
          "output_type": "stream",
          "text": [
            "Train set: (400, 1) (400,)\n",
            "Test set: (100, 1) (100,)\n"
          ],
          "name": "stdout"
        }
      ]
    },
    {
      "cell_type": "code",
      "metadata": {
        "id": "kyodG6SNds7B",
        "colab_type": "code",
        "colab": {}
      },
      "source": [
        "import matplotlib.pyplot as plt\n",
        "regr = linear_model.LinearRegression()\n",
        "regr.fit(X_train,y_train)\n",
        "\n",
        "prediction = regr.predict(X_test)\n",
        "print('Coefficients: \\n', regr.coef_)"
      ],
      "execution_count": null,
      "outputs": []
    },
    {
      "cell_type": "code",
      "metadata": {
        "id": "5DZbHvHVfTXV",
        "colab_type": "code",
        "colab": {
          "base_uri": "https://localhost:8080/",
          "height": 279
        },
        "outputId": "97dafc36-ae10-4902-ff75-2c25e4d37f92"
      },
      "source": [
        "plt.scatter(X_test, y_test,  color='red')\n",
        "plt.plot(X_test, prediction, color='black', linewidth=3)\n",
        "\n",
        "plt.ylabel('price')\n",
        "plt.xlabel('Kilometer')\n",
        "\n",
        "plt.show()"
      ],
      "execution_count": 101,
      "outputs": [
        {
          "output_type": "display_data",
          "data": {
            "image/png": "[encoded data removed]",
            "text/plain": [
              "<Figure size 432x288 with 1 Axes>"
            ]
          },
          "metadata": {
            "tags": [],
            "needs_background": "light"
          }
        }
      ]
    },
    {
      "cell_type": "markdown",
      "metadata": {
        "id": "ev6FPmzfhQdh",
        "colab_type": "text"
      },
      "source": [
        "Use the regression model in this case, it show us that the price will go down when the kilometer of the car goes up."
      ]
    },
    {
      "cell_type": "markdown",
      "metadata": {
        "id": "e2wpZA5skGwh",
        "colab_type": "text"
      },
      "source": [
        "#### 3.1.3 Relationship between Price and Power"
      ]
    },
    {
      "cell_type": "code",
      "metadata": {
        "id": "C60K-nwzkOmS",
        "colab_type": "code",
        "colab": {}
      },
      "source": [
        "x1 = np.array(df1['powerps']).reshape(-1,1)\n",
        "y1 = np.array(df1['price'])"
      ],
      "execution_count": 139,
      "outputs": []
    },
    {
      "cell_type": "code",
      "metadata": {
        "id": "__RWH6EPkckH",
        "colab_type": "code",
        "colab": {
          "base_uri": "https://localhost:8080/",
          "height": 102
        },
        "outputId": "96fc6643-7e99-41a9-9b69-c84e5eb5f5be"
      },
      "source": [
        "from sklearn import preprocessing\n",
        "x1 = preprocessing.StandardScaler().fit(x1).transform(x1)\n",
        "x1[0:5]"
      ],
      "execution_count": 140,
      "outputs": [
        {
          "output_type": "execute_result",
          "data": {
            "text/plain": [
              "array([[ 0.69008103],\n",
              "       [ 0.26853832],\n",
              "       [-1.19905483],\n",
              "       [-0.57454711],\n",
              "       [-0.32474402]])"
            ]
          },
          "metadata": {
            "tags": []
          },
          "execution_count": 140
        }
      ]
    },
    {
      "cell_type": "code",
      "metadata": {
        "id": "ro5ertdAke-m",
        "colab_type": "code",
        "colab": {
          "base_uri": "https://localhost:8080/",
          "height": 51
        },
        "outputId": "dc4b6fa4-d313-40a4-99af-b5cd39f57a9f"
      },
      "source": [
        "from sklearn.model_selection import train_test_split\n",
        "X1_train, X1_test, y1_train, y1_test = train_test_split( x1, y1, test_size=0.2, random_state=4)\n",
        "print ('Train set:', X1_train.shape,  y1_train.shape)\n",
        "print ('Test set:', X1_test.shape,  y1_test.shape)"
      ],
      "execution_count": 141,
      "outputs": [
        {
          "output_type": "stream",
          "text": [
            "Train set: (400, 1) (400,)\n",
            "Test set: (100, 1) (100,)\n"
          ],
          "name": "stdout"
        }
      ]
    },
    {
      "cell_type": "code",
      "metadata": {
        "id": "fGayhLg6kor7",
        "colab_type": "code",
        "colab": {
          "base_uri": "https://localhost:8080/",
          "height": 51
        },
        "outputId": "1d8d1c05-e4a6-47e9-a5f1-e71f7d12f0c9"
      },
      "source": [
        "import matplotlib.pyplot as plt\n",
        "reg = linear_model.LinearRegression()\n",
        "reg.fit(X1_train,y1_train)\n",
        "\n",
        "pred = reg.predict(X1_test)\n",
        "print('Coefficients: \\n', reg.coef_)"
      ],
      "execution_count": 142,
      "outputs": [
        {
          "output_type": "stream",
          "text": [
            "Coefficients: \n",
            " [4023.17713911]\n"
          ],
          "name": "stdout"
        }
      ]
    },
    {
      "cell_type": "code",
      "metadata": {
        "id": "z4-UVrksk1uL",
        "colab_type": "code",
        "colab": {
          "base_uri": "https://localhost:8080/",
          "height": 279
        },
        "outputId": "2fbd1812-04f0-4130-b3ce-f82b5266eadb"
      },
      "source": [
        "plt.scatter(X1_test, y1_test,  color='red')\n",
        "plt.plot(X1_test, pred, color='black', linewidth=3)\n",
        "\n",
        "plt.ylabel('price')\n",
        "plt.xlabel('power')\n",
        "\n",
        "plt.show()"
      ],
      "execution_count": 124,
      "outputs": [
        {
          "output_type": "display_data",
          "data": {
            "image/png": "[encoded data removed]",
            "text/plain": [
              "<Figure size 432x288 with 1 Axes>"
            ]
          },
          "metadata": {
            "tags": [],
            "needs_background": "light"
          }
        }
      ]
    },
    {
      "cell_type": "markdown",
      "metadata": {
        "id": "SMKdXsUDl8m4",
        "colab_type": "text"
      },
      "source": [
        "Use the regression model in this case, it show us that the price will go up when the power of the car goes up."
      ]
    },
    {
      "cell_type": "markdown",
      "metadata": {
        "id": "Ig-ZuUvwvmTo",
        "colab_type": "text"
      },
      "source": [
        "####3.1.4 Relationship between Price and Year of Used"
      ]
    },
    {
      "cell_type": "code",
      "metadata": {
        "id": "-Bi8s2S9v2ao",
        "colab_type": "code",
        "colab": {}
      },
      "source": [
        "a = np.array(df_final['year_of_used']).reshape(-1,1)\n",
        "b = np.array(df_final['price'])"
      ],
      "execution_count": 231,
      "outputs": []
    },
    {
      "cell_type": "code",
      "metadata": {
        "id": "RgaH-leAwDF-",
        "colab_type": "code",
        "colab": {
          "base_uri": "https://localhost:8080/",
          "height": 102
        },
        "outputId": "2bcb16e9-75dc-4cb5-83f6-cd6e36e9a8c1"
      },
      "source": [
        "from sklearn import preprocessing\n",
        "a = preprocessing.StandardScaler().fit(a).transform(a)\n",
        "a[0:5]"
      ],
      "execution_count": 232,
      "outputs": [
        {
          "output_type": "execute_result",
          "data": {
            "text/plain": [
              "array([[-0.7780362 ],\n",
              "       [ 0.27866799],\n",
              "       [-0.32516297],\n",
              "       [ 0.27866799],\n",
              "       [-1.23090942]])"
            ]
          },
          "metadata": {
            "tags": []
          },
          "execution_count": 232
        }
      ]
    },
    {
      "cell_type": "code",
      "metadata": {
        "id": "5P6WXilhwMy5",
        "colab_type": "code",
        "colab": {
          "base_uri": "https://localhost:8080/",
          "height": 51
        },
        "outputId": "dc89fa20-3393-433f-bce9-c0c532655578"
      },
      "source": [
        "from sklearn.model_selection import train_test_split\n",
        "a_train, a_test, b_train, b_test = train_test_split( a, b, test_size=0.2, random_state=4)\n",
        "print ('Train set:', a_train.shape,  b_train.shape)\n",
        "print ('Test set:', a_test.shape,  b_test.shape)"
      ],
      "execution_count": 242,
      "outputs": [
        {
          "output_type": "stream",
          "text": [
            "Train set: (400, 1) (400,)\n",
            "Test set: (100, 1) (100,)\n"
          ],
          "name": "stdout"
        }
      ]
    },
    {
      "cell_type": "code",
      "metadata": {
        "id": "EEHYb15IwZ6k",
        "colab_type": "code",
        "colab": {
          "base_uri": "https://localhost:8080/",
          "height": 51
        },
        "outputId": "fa1dc784-fb2c-4bd0-f3b7-260c94e7e8a9"
      },
      "source": [
        "import matplotlib.pyplot as plt\n",
        "re = linear_model.LinearRegression()\n",
        "re.fit(a_train,b_train)\n",
        "\n",
        "pr = re.predict(a_test)\n",
        "print('Coefficients: \\n', re.coef_)"
      ],
      "execution_count": 243,
      "outputs": [
        {
          "output_type": "stream",
          "text": [
            "Coefficients: \n",
            " [-570.38724415]\n"
          ],
          "name": "stdout"
        }
      ]
    },
    {
      "cell_type": "code",
      "metadata": {
        "id": "B5O0meYTwh2F",
        "colab_type": "code",
        "colab": {
          "base_uri": "https://localhost:8080/",
          "height": 279
        },
        "outputId": "6ac5c6e6-fad3-4b41-8bac-b4e879579de3"
      },
      "source": [
        "plt.scatter(a_test, b_test,  color='red')\n",
        "plt.plot(a_test, pr, color='black', linewidth=3)\n",
        "\n",
        "plt.ylabel('price')\n",
        "plt.xlabel('year')\n",
        "\n",
        "plt.show()"
      ],
      "execution_count": 244,
      "outputs": [
        {
          "output_type": "display_data",
          "data": {
            "image/png": "[encoded data removed]",
            "text/plain": [
              "<Figure size 432x288 with 1 Axes>"
            ]
          },
          "metadata": {
            "tags": [],
            "needs_background": "light"
          }
        }
      ]
    },
    {
      "cell_type": "markdown",
      "metadata": {
        "id": "mbP-AEjHxKY0",
        "colab_type": "text"
      },
      "source": [
        "This show that the price will go down slow if the car used too long. However, this is a weak relationship since the curve is trend to flat and it is not obvious to say so."
      ]
    },
    {
      "cell_type": "markdown",
      "metadata": {
        "id": "mhF3-YaYiPdm",
        "colab_type": "text"
      },
      "source": [
        "---"
      ]
    },
    {
      "cell_type": "markdown",
      "metadata": {
        "id": "eme6gu2DiRs3",
        "colab_type": "text"
      },
      "source": [
        "###3.2 Multiple Regression"
      ]
    },
    {
      "cell_type": "code",
      "metadata": {
        "id": "8jA8ycg8mL8v",
        "colab_type": "code",
        "colab": {}
      },
      "source": [
        "X = np.array(df1[['powerps','kilometer']])\n",
        "Y = np.array(df1['price'])"
      ],
      "execution_count": 174,
      "outputs": []
    },
    {
      "cell_type": "code",
      "metadata": {
        "id": "j0QVlENyncZb",
        "colab_type": "code",
        "colab": {
          "base_uri": "https://localhost:8080/",
          "height": 102
        },
        "outputId": "08da084b-6015-4d98-a32c-f3dc03c646e8"
      },
      "source": [
        "from sklearn import preprocessing\n",
        "X = preprocessing.StandardScaler().fit(x1).transform(x1)\n",
        "X[0:5]"
      ],
      "execution_count": 191,
      "outputs": [
        {
          "output_type": "execute_result",
          "data": {
            "text/plain": [
              "array([[ 0.69008103],\n",
              "       [ 0.26853832],\n",
              "       [-1.19905483],\n",
              "       [-0.57454711],\n",
              "       [-0.32474402]])"
            ]
          },
          "metadata": {
            "tags": []
          },
          "execution_count": 191
        }
      ]
    },
    {
      "cell_type": "code",
      "metadata": {
        "id": "44a2JqsTni-u",
        "colab_type": "code",
        "colab": {
          "base_uri": "https://localhost:8080/",
          "height": 51
        },
        "outputId": "e5540911-bb2c-4527-9626-40fc6a609a5f"
      },
      "source": [
        "from sklearn.model_selection import train_test_split\n",
        "X2_train, X2_test, y2_train, y2_test = train_test_split( X, Y, test_size=0.3, random_state=3)\n",
        "print ('Train set:', X2_train.shape,  y2_train.shape)\n",
        "print ('Test set:', X2_test.shape,  y2_test.shape)"
      ],
      "execution_count": 201,
      "outputs": [
        {
          "output_type": "stream",
          "text": [
            "Train set: (350, 1) (350,)\n",
            "Test set: (150, 1) (150,)\n"
          ],
          "name": "stdout"
        }
      ]
    },
    {
      "cell_type": "code",
      "metadata": {
        "id": "KRP4dO08nrrR",
        "colab_type": "code",
        "colab": {
          "base_uri": "https://localhost:8080/",
          "height": 51
        },
        "outputId": "aa662633-df57-4173-ad8f-92b7f7f03a0c"
      },
      "source": [
        "import matplotlib.pyplot as plt\n",
        "regress = linear_model.LinearRegression()\n",
        "regress.fit(X2_train,y2_train)\n",
        "\n",
        "pre = regress.predict(X2_test)\n",
        "print('Coefficients: \\n', regress.coef_)"
      ],
      "execution_count": 202,
      "outputs": [
        {
          "output_type": "stream",
          "text": [
            "Coefficients: \n",
            " [3885.0257726]\n"
          ],
          "name": "stdout"
        }
      ]
    },
    {
      "cell_type": "code",
      "metadata": {
        "id": "jvkU0qvroLtF",
        "colab_type": "code",
        "colab": {
          "base_uri": "https://localhost:8080/",
          "height": 279
        },
        "outputId": "033113c5-4820-47d0-f381-d8a5495f2f38"
      },
      "source": [
        "plt.scatter(X2_test, y2_test,  color='red')\n",
        "plt.plot(X2_test, pre, color='black', linewidth=3)\n",
        "\n",
        "plt.ylabel('price')\n",
        "plt.xlabel('kilometer & power')\n",
        "\n",
        "plt.show()"
      ],
      "execution_count": 203,
      "outputs": [
        {
          "output_type": "display_data",
          "data": {
            "image/png": "[encoded data removed]",
            "text/plain": [
              "<Figure size 432x288 with 1 Axes>"
            ]
          },
          "metadata": {
            "tags": [],
            "needs_background": "light"
          }
        }
      ]
    },
    {
      "cell_type": "markdown",
      "metadata": {
        "id": "3tvpDOV7rnB8",
        "colab_type": "text"
      },
      "source": [
        "As we can see that when kilometer and power go up together, the price will increase with them. "
      ]
    },
    {
      "cell_type": "markdown",
      "metadata": {
        "id": "W6KD2Ne3r4Eh",
        "colab_type": "text"
      },
      "source": [
        "---"
      ]
    },
    {
      "cell_type": "markdown",
      "metadata": {
        "id": "SgzkxiIkr5Z0",
        "colab_type": "text"
      },
      "source": [
        "#Conculsion"
      ]
    },
    {
      "cell_type": "markdown",
      "metadata": {
        "id": "bKcdhxcrsFWz",
        "colab_type": "text"
      },
      "source": [
        "1.The price of the car will go down when the kilometer of the car goes up.\n",
        "\n",
        "2.The price will go up if the car have a stronger power.\n",
        "\n",
        "3.The price will go down slow if the car used too long.\n",
        "\n",
        "4.When kilometer and power go up together, the price will increase with them. "
      ]
    }
  ]
}