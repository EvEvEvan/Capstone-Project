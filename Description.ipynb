{
  "nbformat": 4,
  "nbformat_minor": 0,
  "metadata": {
    "colab": {
      "name": "Description",
      "provenance": []
    },
    "kernelspec": {
      "name": "python3",
      "display_name": "Python 3"
    }
  },
  "cells": [
    {
      "cell_type": "markdown",
      "metadata": {
        "id": "-8pn2XrrFloV",
        "colab_type": "text"
      },
      "source": [
        "# Introduction"
      ]
    },
    {
      "cell_type": "markdown",
      "metadata": {
        "id": "ZDM13kHUKBKb",
        "colab_type": "text"
      },
      "source": [
        "###1.1 Background"
      ]
    },
    {
      "cell_type": "markdown",
      "metadata": {
        "id": "JYp2G2odFr9Q",
        "colab_type": "text"
      },
      "source": [
        "Due to the fast development of the economy and technology, cars become common in people's daily life. Different people like different types of cars such as sedan, SUV, and so on. Under this condition, people may want to trade in their cars and replace them in a short period to taste other types of the cars. There is some extra fee in purchasing a new car. To save money, they can choose to have a used car. In this case, the price of the car is important. Many factors can influence the price of the car. To understand how each factor may affect the price can help the improvement of the used car industry."
      ]
    },
    {
      "cell_type": "markdown",
      "metadata": {
        "id": "AidiYK-4OaC2",
        "colab_type": "text"
      },
      "source": [
        "###1.2 Audience\n",
        "\n",
        "The report is for people who will buy a used car and they can use this report as a reference. They can understand how the dealer decides the price of the user's car and identify whether they have been cheated or not."
      ]
    },
    {
      "cell_type": "markdown",
      "metadata": {
        "id": "u5E-G4doLkNW",
        "colab_type": "text"
      },
      "source": [
        "###2.1 Data"
      ]
    },
    {
      "cell_type": "markdown",
      "metadata": {
        "id": "3-V__slHLq4l",
        "colab_type": "text"
      },
      "source": [
        "The used car data can be very important to analyze how the factors affect the price. There are many characters for each car such as the brand, power, vehicle type, and so on. The method that we can use to analyze is the regression and identify the trend of the price depend on different characters."
      ]
    }
  ]
}